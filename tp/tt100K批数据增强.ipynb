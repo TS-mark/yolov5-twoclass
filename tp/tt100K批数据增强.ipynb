{
 "cells": [
  {
   "cell_type": "code",
   "execution_count": 32,
   "id": "3c1d9067",
   "metadata": {},
   "outputs": [],
   "source": [
    "import os\n",
    "import shutil\n",
    "from imgaug import augmenters as iaa\n",
    "import PIL\n",
    "import numpy as np\n",
    "import matplotlib.pyplot as plt\n",
    "import imageio.v2 as imageio\n",
    "import ipyplot\n",
    "import random"
   ]
  },
  {
   "cell_type": "code",
   "execution_count": 62,
   "id": "aa3a99d2",
   "metadata": {},
   "outputs": [
    {
     "data": {
      "text/plain": [
       "0"
      ]
     },
     "execution_count": 62,
     "metadata": {},
     "output_type": "execute_result"
    }
   ],
   "source": []
  },
  {
   "cell_type": "code",
   "execution_count": 76,
   "id": "bbac9221",
   "metadata": {},
   "outputs": [],
   "source": [
    "# 第一项为原图\n",
    "noise_list = [iaa.AdditiveGaussianNoise(0, 0), \n",
    "              iaa.AdditiveGaussianNoise(3, 5), \n",
    "              iaa.AdditiveGaussianNoise(5, 10)\n",
    "            #   iaa.AdditiveGaussianNoise(5, 20)\n",
    "             ]\n",
    "len_n = len(noise_list)\n",
    "one_noise = iaa.SomeOf(1,noise_list)\n",
    "# 第一项为原图\n",
    "blur_list = [iaa.GaussianBlur(0, 0), \n",
    "             iaa.GaussianBlur(0.25,3), \n",
    "             iaa.GaussianBlur(0.5,10)\n",
    "            ]\n",
    "len_b = len(blur_list)\n",
    "one_blur = iaa.SomeOf(1,blur_list)\n",
    "\n",
    "# 第一个是原图\n",
    "contrast_list = [iaa.GammaContrast((1.0, 1.0)), \n",
    "                 iaa.GammaContrast((2.0, 2.0)), \n",
    "                 iaa.SigmoidContrast(gain=(10, 10), cutoff=(0.6, 0.6)), \n",
    "                 iaa.LinearContrast((0.8, 0.8)), \n",
    "                 iaa.LinearContrast((0.4, 0.4)), \n",
    "                 iaa.LinearContrast((2, 2)), \n",
    "                 iaa.GammaContrast((0.6, 0.6))\n",
    "                ]\n",
    "len_c = len(contrast_list)\n",
    "one_constrast = iaa.SomeOf(1, contrast_list)\n",
    "\n",
    "# 第一项为原图\n",
    "elastic_list = [iaa.ElasticTransformation(0,0), \n",
    "                iaa.ElasticTransformation(10), \n",
    "                iaa.ElasticTransformation(54,20)\n",
    "               ]\n",
    "len_e = len(elastic_list)\n",
    "one_elastic = iaa.SomeOf(1, elastic_list)\n",
    "\n",
    "def data_enhance(img_path ,save_path, less_than = 5, enhanced_to = 50):\n",
    "    f_lst = os.listdir(img_path)\n",
    "    num_pics = len(f_lst)\n",
    "    if num_pics > 50 or num_pics == 0:\n",
    "        return None\n",
    "    \n",
    "    if not os.path.exists(save_path):\n",
    "        os.makedirs(save_path)\n",
    "        \n",
    "    each_enhanced = enhanced_to//num_pics\n",
    "    for pic_file in f_lst:\n",
    "        image = imageio.imread(r\".\\{}\\{}\".format(img_path, pic_file))\n",
    "        if each_enhanced > len(contrast_list):\n",
    "            for num_en in range(0, each_enhanced, len(contrast_list)):\n",
    "                for contrast in range(len(contrast_list)):\n",
    "                    seq = iaa.Sequential([\n",
    "                        noise_list[random.randint(0, len_n-1)],\n",
    "                        # one_noise\n",
    "                        blur_list[random.randint(0, len_b-1)],\n",
    "                        # one_blur\n",
    "                        contrast_list[contrast]\n",
    "                        # one_elastic\n",
    "                    ])\n",
    "                    img_aug = seq.augment_image(image)\n",
    "                    imageio.imwrite( r\"{}/{}_{}_{}.png\".format(save_path, pic_file.replace(\".png\",\"\"), num_en, contrast),img_aug)\n",
    "        else:\n",
    "            for num_en in range(each_enhanced):\n",
    "                seq = iaa.Sequential([\n",
    "                    noise_list[random.randint(0, len_n-1)],\n",
    "                    # one_noise\n",
    "                    blur_list[random.randint(0, len_b-1)],\n",
    "                    # one_blur\n",
    "                    contrast_list[random.randint(0, len_c-1)]\n",
    "                    # one_elastic\n",
    "                ])\n",
    "                img_aug = seq.augment_image(image)\n",
    "                imageio.imwrite( r\"{}/{}_{}.png\".format(save_path, pic_file.replace(\".png\",\"\"), num_en),img_aug)\n",
    "\n",
    "\n"
   ]
  },
  {
   "cell_type": "code",
   "execution_count": 73,
   "id": "5bdafe19",
   "metadata": {},
   "outputs": [],
   "source": [
    "img_path = r\"./classifier_tt100k_2021\"\n",
    "save_path = r\"C:/Users/mark/Pictures/walal\"\n",
    "img_list = os.listdir(img_path)\n",
    "for img_p in img_list:\n",
    "    data_enhance(os.path.join(img_path, img_p), os.path.join(save_path, img_p))"
   ]
  },
  {
   "cell_type": "code",
   "execution_count": null,
   "id": "909df4cb",
   "metadata": {},
   "outputs": [],
   "source": []
  }
 ],
 "metadata": {
  "kernelspec": {
   "display_name": "Python 3",
   "language": "python",
   "name": "python3"
  },
  "language_info": {
   "codemirror_mode": {
    "name": "ipython",
    "version": 3
   },
   "file_extension": ".py",
   "mimetype": "text/x-python",
   "name": "python",
   "nbconvert_exporter": "python",
   "pygments_lexer": "ipython3",
   "version": "3.10.8 (tags/v3.10.8:aaaf517, Oct 11 2022, 16:50:30) [MSC v.1933 64 bit (AMD64)]"
  },
  "vscode": {
   "interpreter": {
    "hash": "2457cb1fc7fe65b67a8bfa8297ae36ac15699474b7b28a44eb2505adebb15336"
   }
  }
 },
 "nbformat": 4,
 "nbformat_minor": 5
}
