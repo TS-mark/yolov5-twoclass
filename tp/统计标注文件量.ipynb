{
 "cells": [
  {
   "cell_type": "code",
   "execution_count": 2,
   "id": "2d669171",
   "metadata": {},
   "outputs": [],
   "source": [
    "import pandas as pd\n",
    "import os"
   ]
  },
  {
   "cell_type": "code",
   "execution_count": 8,
   "id": "d61b160b",
   "metadata": {},
   "outputs": [],
   "source": [
    "test_path = r\"C:\\jinxData\\TT100K\\data\\test\"\n",
    "train_path = r\"C:\\jinxData\\TT100K\\data\\train\"\n",
    "temp_path = r\"C:\\jinxData\\TT100K\\data\\temp\""
   ]
  },
  {
   "cell_type": "code",
   "execution_count": 41,
   "id": "6fc8d77b",
   "metadata": {},
   "outputs": [
    {
     "name": "stdout",
     "output_type": "stream",
     "text": [
      "9176 2568\n"
     ]
    }
   ],
   "source": [
    "# 所有含标签的文件数\n",
    "annotations = 0\n",
    "pic = 0\n",
    "file_list = os.listdir(test_path)\n",
    "for f in file_list:\n",
    "    if f.endswith(\".json\"):\n",
    "        annotations += 1\n",
    "    elif f.endswith(\".jpg\") or f.endswith(\"png\"):\n",
    "        pic += 1\n",
    "\n",
    "\n",
    "file_list = os.listdir(train_path)\n",
    "for f in file_list:\n",
    "    if f.endswith(\".json\"):\n",
    "        annotations += 1\n",
    "    elif f.endswith(\".jpg\") or f.endswith(\"png\"):\n",
    "        pic += 1\n",
    "\n",
    "\n",
    "file_list = os.listdir(temp_path)\n",
    "annotations += len(file_list)\n",
    "\"\"\"标签文件数\"\"\"\n",
    "print(pic, annotations)"
   ]
  },
  {
   "cell_type": "code",
   "execution_count": 32,
   "id": "f49bd8ab",
   "metadata": {},
   "outputs": [
    {
     "name": "stdout",
     "output_type": "stream",
     "text": [
      "8182 1959\n"
     ]
    }
   ],
   "source": [
    "# 测试集标签数量\n",
    "annotation_txt_path = r\"C:\\jinxData\\TT100K\\data\\annotation_txt\"\n",
    "an_test = os.path.join(annotation_txt_path, \"test\")\n",
    "file_list = os.listdir(an_test)\n",
    "tt100k_ori_test = 0\n",
    "tt100k_ann_test = 0\n",
    "for i in file_list:\n",
    "    with open(os.path.join(an_test,i), \"r\") as f:\n",
    "        for i in f.readlines():\n",
    "            if i.startswith(\"lz\"):\n",
    "                tt100k_ann_test += 1\n",
    "            else:\n",
    "                tt100k_ori_test += 1\n",
    "\n",
    "                \n",
    "print(tt100k_ori_test,tt100k_ann_test)"
   ]
  },
  {
   "cell_type": "code",
   "execution_count": 37,
   "id": "fd00e461",
   "metadata": {},
   "outputs": [
    {
     "name": "stdout",
     "output_type": "stream",
     "text": [
      "16524 3157\n"
     ]
    }
   ],
   "source": [
    "# 训练集标签数量\n",
    "annotation_txt_path = r\"C:\\jinxData\\TT100K\\data\\annotation_txt\"\n",
    "an_train = os.path.join(annotation_txt_path, \"train\")\n",
    "file_list = os.listdir(an_train)\n",
    "tt100k_ori_train = 0\n",
    "tt100k_ann_train = 0\n",
    "for i in file_list:\n",
    "    with open(os.path.join(an_train,i), \"r\") as f:\n",
    "        for i in f.readlines():\n",
    "            if i.startswith(\"lz\"):\n",
    "                tt100k_ann_train += 1\n",
    "            else:\n",
    "                tt100k_ori_train += 1\n",
    "\n",
    "                \n",
    "print(tt100k_ori_train,tt100k_ann_train)"
   ]
  },
  {
   "cell_type": "code",
   "execution_count": 39,
   "id": "4dcf826f",
   "metadata": {},
   "outputs": [
    {
     "name": "stdout",
     "output_type": "stream",
     "text": [
      "24706 5116\n"
     ]
    }
   ],
   "source": [
    "# 标签总和数量\n",
    "tt100k_ori = tt100k_ori_test + tt100k_ori_train\n",
    "tt100k_ann = tt100k_ann_test + tt100k_ann_train\n",
    "print(tt100k_ori, tt100k_ann)"
   ]
  }
 ],
 "metadata": {
  "kernelspec": {
   "display_name": "Python 3",
   "language": "python",
   "name": "python3"
  },
  "language_info": {
   "codemirror_mode": {
    "name": "ipython",
    "version": 3
   },
   "file_extension": ".py",
   "mimetype": "text/x-python",
   "name": "python",
   "nbconvert_exporter": "python",
   "pygments_lexer": "ipython3",
   "version": "3.10.8 (tags/v3.10.8:aaaf517, Oct 11 2022, 16:50:30) [MSC v.1933 64 bit (AMD64)]"
  },
  "vscode": {
   "interpreter": {
    "hash": "2457cb1fc7fe65b67a8bfa8297ae36ac15699474b7b28a44eb2505adebb15336"
   }
  }
 },
 "nbformat": 4,
 "nbformat_minor": 5
}
