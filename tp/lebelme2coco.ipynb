{
 "cells": [
  {
   "cell_type": "code",
   "execution_count": 19,
   "id": "f4424c05",
   "metadata": {},
   "outputs": [],
   "source": [
    "import os\n",
    "import json"
   ]
  },
  {
   "cell_type": "code",
   "execution_count": 20,
   "id": "3a79e4e4",
   "metadata": {
    "scrolled": true
   },
   "outputs": [],
   "source": [
    "path = r\".\\added_data\"\n",
    "dir_path = r\".\\transformed\"\n",
    "filename = \"\"\n",
    "#读取文件列表\n",
    "file_list = os.listdir(path)\n"
   ]
  },
  {
   "cell_type": "code",
   "execution_count": 21,
   "id": "1202c130",
   "metadata": {
    "scrolled": true
   },
   "outputs": [
    {
     "data": {
      "text/plain": [
       "'0.642353'"
      ]
     },
     "execution_count": 21,
     "metadata": {},
     "output_type": "execute_result"
    }
   ],
   "source": [
    "# a = 0.642353456345\n",
    "# \"%.6f\" % a"
   ]
  },
  {
   "cell_type": "code",
   "execution_count": 17,
   "id": "94e143c4",
   "metadata": {},
   "outputs": [],
   "source": [
    "def labelme2coco(dir_path, o_path):\n",
    "    with open(o_path, \"r\") as f2:\n",
    "        lz = json.load(f2)\n",
    "        objs = []\n",
    "        height = lz[\"imageHeight\"]\n",
    "        width = lz[\"imageWidth\"]\n",
    "        for lb in lz[\"shapes\"]:\n",
    "            temp = []\n",
    "            temp.append(\"0\" if lb[\"label\"] == \"symbol\" else \"1\") # 如果需要修改label，在这里修改一下\n",
    "            temp.append(\"%.6f\" % ((lb[\"points\"][0][0]+lb[\"points\"][1][0])/2/width))\n",
    "            temp.append(\"%.6f\" % ((lb[\"points\"][0][1]+lb[\"points\"][1][1])/2/height))\n",
    "            temp.append(\"%.6f\" % ((lb[\"points\"][1][0]-lb[\"points\"][0][0])/width))\n",
    "            temp.append(\"%.6f\" % ((lb[\"points\"][1][1]-lb[\"points\"][0][1])/height))\n",
    "            objs.append(\" \".join(temp))\n",
    "    \n",
    "    with open(dir_path, \"w\") as f1:\n",
    "        # f1.write('\\n')\n",
    "        f1.write(\"\\n\".join(objs))"
   ]
  },
  {
   "cell_type": "code",
   "execution_count": 18,
   "id": "0777d576",
   "metadata": {},
   "outputs": [],
   "source": [
    "for i in file_list:\n",
    "    if i.endswith(\".json\"):\n",
    "        dpath = os.path.join(dir_path, i.replace(\"json\", \"txt\"))\n",
    "        opath = os.path.join(path, i)\n",
    "        labelme2coco(dpath, opath)"
   ]
  },
  {
   "cell_type": "code",
   "execution_count": 4,
   "id": "470b0804",
   "metadata": {},
   "outputs": [
    {
     "data": {
      "text/plain": [
       "'10009.jpg'"
      ]
     },
     "execution_count": 4,
     "metadata": {},
     "output_type": "execute_result"
    }
   ],
   "source": [
    "# 将同一个图的标签融合，前提是o_path存在部分标签，且dir_path为labelme标注\n",
    "def label_gather(dir_path, o_path):\n",
    "    with open(o_path, \"r\") as f2:\n",
    "        lz = json.load(f2)\n",
    "        objs = []\n",
    "        height = lz[\"imageHeight\"]\n",
    "        width = lz[\"imageWidth\"]\n",
    "        for lb in lz[\"shapes\"]:\n",
    "            temp = []\n",
    "            temp.append(lb[\"label\"])\n",
    "            temp.append(\"%.6f\" % ((lb[\"points\"][0][0]+lb[\"points\"][1][0])/2/width))\n",
    "            temp.append(\"%.6f\" % ((lb[\"points\"][0][1]+lb[\"points\"][1][1])/2/height))\n",
    "            temp.append(\"%.6f\" % ((lb[\"points\"][1][0]-lb[\"points\"][0][0])/width))\n",
    "            temp.append(\"%.6f\" % ((lb[\"points\"][1][1]-lb[\"points\"][0][1])/height))\n",
    "            objs.append(\"\\t\".join(temp))\n",
    "    \n",
    "    with open(dir_path, \"a\") as f1:\n",
    "        f1.write('\\n')\n",
    "        f1.write(\"\\n\".join(objs))\n",
    "\n",
    "        \n",
    "for i in file_list:\n",
    "    if i.endswith(\".json\"):\n",
    "        dpath = os.path.join(dir_path, i.replace(\"json\", \"txt\"))\n",
    "        opath = os.path.join(path, i)\n",
    "        label_gather(dpath, opath)"
   ]
  },
  {
   "cell_type": "code",
   "execution_count": 14,
   "id": "41945087",
   "metadata": {},
   "outputs": [],
   "source": [
    "# 额外的数据集,数据格式为coco，尾缀txt且无图片文件，与原标注数据集融合\n",
    "txt_path = r\".\\TT100K\\temp\"\n",
    "txt_list = os.listdir(txt_path)\n",
    "for i in txt_list:\n",
    "    with open(os.path.join(r\"C:\\jinxData\\TT100K\\data\\temp\",i), \"r\") as f:\n",
    "        with open(os.path.join(dir_path, i), \"a\") as f1:\n",
    "            f1.write(f.read())"
   ]
  }
 ],
 "metadata": {
  "kernelspec": {
   "display_name": "Python 3",
   "language": "python",
   "name": "python3"
  },
  "language_info": {
   "codemirror_mode": {
    "name": "ipython",
    "version": 3
   },
   "file_extension": ".py",
   "mimetype": "text/x-python",
   "name": "python",
   "nbconvert_exporter": "python",
   "pygments_lexer": "ipython3",
   "version": "3.10.8 (tags/v3.10.8:aaaf517, Oct 11 2022, 16:50:30) [MSC v.1933 64 bit (AMD64)]"
  },
  "vscode": {
   "interpreter": {
    "hash": "2457cb1fc7fe65b67a8bfa8297ae36ac15699474b7b28a44eb2505adebb15336"
   }
  }
 },
 "nbformat": 4,
 "nbformat_minor": 5
}
