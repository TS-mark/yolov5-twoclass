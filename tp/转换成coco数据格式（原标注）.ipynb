{
 "cells": [
  {
   "cell_type": "code",
   "execution_count": 1,
   "id": "26bd3b48",
   "metadata": {},
   "outputs": [],
   "source": [
    "import json\n",
    "import os"
   ]
  },
  {
   "cell_type": "code",
   "execution_count": 2,
   "id": "edf85ea7",
   "metadata": {},
   "outputs": [
    {
     "ename": "FileNotFoundError",
     "evalue": "[Errno 2] No such file or directory: './annotations.json'",
     "output_type": "error",
     "traceback": [
      "\u001b[1;31m---------------------------------------------------------------------------\u001b[0m",
      "\u001b[1;31mFileNotFoundError\u001b[0m                         Traceback (most recent call last)",
      "Cell \u001b[1;32mIn[2], line 2\u001b[0m\n\u001b[0;32m      1\u001b[0m file_path \u001b[38;5;241m=\u001b[39m \u001b[38;5;124m\"\u001b[39m\u001b[38;5;124m./\u001b[39m\u001b[38;5;124m\"\u001b[39m\n\u001b[1;32m----> 2\u001b[0m \u001b[38;5;28;01mwith\u001b[39;00m \u001b[38;5;28;43mopen\u001b[39;49m\u001b[43m(\u001b[49m\u001b[43mos\u001b[49m\u001b[38;5;241;43m.\u001b[39;49m\u001b[43mpath\u001b[49m\u001b[38;5;241;43m.\u001b[39;49m\u001b[43mjoin\u001b[49m\u001b[43m(\u001b[49m\u001b[43mfile_path\u001b[49m\u001b[43m,\u001b[49m\u001b[43m \u001b[49m\u001b[38;5;124;43m\"\u001b[39;49m\u001b[38;5;124;43mannotations.json\u001b[39;49m\u001b[38;5;124;43m\"\u001b[39;49m\u001b[43m)\u001b[49m\u001b[43m)\u001b[49m \u001b[38;5;28;01mas\u001b[39;00m oj:\n\u001b[0;32m      3\u001b[0m     origin_dict \u001b[38;5;241m=\u001b[39m json\u001b[38;5;241m.\u001b[39mload(oj)\n",
      "File \u001b[1;32m~\\AppData\\Local\\Programs\\Python\\Python310\\lib\\site-packages\\IPython\\core\\interactiveshell.py:282\u001b[0m, in \u001b[0;36m_modified_open\u001b[1;34m(file, *args, **kwargs)\u001b[0m\n\u001b[0;32m    275\u001b[0m \u001b[38;5;28;01mif\u001b[39;00m file \u001b[38;5;129;01min\u001b[39;00m {\u001b[38;5;241m0\u001b[39m, \u001b[38;5;241m1\u001b[39m, \u001b[38;5;241m2\u001b[39m}:\n\u001b[0;32m    276\u001b[0m     \u001b[38;5;28;01mraise\u001b[39;00m \u001b[38;5;167;01mValueError\u001b[39;00m(\n\u001b[0;32m    277\u001b[0m         \u001b[38;5;124mf\u001b[39m\u001b[38;5;124m\"\u001b[39m\u001b[38;5;124mIPython won\u001b[39m\u001b[38;5;124m'\u001b[39m\u001b[38;5;124mt let you open fd=\u001b[39m\u001b[38;5;132;01m{\u001b[39;00mfile\u001b[38;5;132;01m}\u001b[39;00m\u001b[38;5;124m by default \u001b[39m\u001b[38;5;124m\"\u001b[39m\n\u001b[0;32m    278\u001b[0m         \u001b[38;5;124m\"\u001b[39m\u001b[38;5;124mas it is likely to crash IPython. If you know what you are doing, \u001b[39m\u001b[38;5;124m\"\u001b[39m\n\u001b[0;32m    279\u001b[0m         \u001b[38;5;124m\"\u001b[39m\u001b[38;5;124myou can use builtins\u001b[39m\u001b[38;5;124m'\u001b[39m\u001b[38;5;124m open.\u001b[39m\u001b[38;5;124m\"\u001b[39m\n\u001b[0;32m    280\u001b[0m     )\n\u001b[1;32m--> 282\u001b[0m \u001b[38;5;28;01mreturn\u001b[39;00m io_open(file, \u001b[38;5;241m*\u001b[39margs, \u001b[38;5;241m*\u001b[39m\u001b[38;5;241m*\u001b[39mkwargs)\n",
      "\u001b[1;31mFileNotFoundError\u001b[0m: [Errno 2] No such file or directory: './annotations.json'"
     ]
    }
   ],
   "source": [
    "file_path = \"./\"\n",
    "with open(os.path.join(file_path, \"annotations.json\")) as oj:\n",
    "    origin_dict = json.load(oj)"
   ]
  },
  {
   "cell_type": "code",
   "execution_count": 36,
   "id": "c570593d",
   "metadata": {},
   "outputs": [],
   "source": [
    "\n",
    "\"\"\"\n",
    "@description  :将TT100K文件转换成coco数据格式\n",
    "---------\n",
    "\"\"\"\n",
    "for i in origin_dict[\"imgs\"]:\n",
    "    path = origin_dict[\"imgs\"][i][\"path\"]\n",
    "    path = os.path.join(\"annotation_txt\",path.replace(\"jpg\", \"txt\"))\n",
    "    objects = []\n",
    "\n",
    "    for k in origin_dict[\"imgs\"][i][\"objects\"]:\n",
    "        temp = []\n",
    "        temp.append(k[\"category\"])\n",
    "        temp.append(str((k[\"bbox\"][\"xmax\"] + k[\"bbox\"][\"xmin\"])/4096))#x\n",
    "        temp.append(str((k[\"bbox\"][\"ymax\"] + k[\"bbox\"][\"ymin\"])/4096))#y\n",
    "        temp.append(str((k[\"bbox\"][\"xmax\"] - k[\"bbox\"][\"xmin\"])/2048))#w\n",
    "        temp.append(str((k[\"bbox\"][\"ymax\"] - k[\"bbox\"][\"ymin\"])/2048))#h\n",
    "        objects.append(\"\\t\".join(temp))\n",
    "    with open(os.path.join(file_path, path),\"w\") as oj:\n",
    "        oj.write(\"\\n\".join(objects))\n",
    "\n",
    "\n"
   ]
  },
  {
   "cell_type": "code",
   "execution_count": 4,
   "id": "a4d844aa",
   "metadata": {},
   "outputs": [
    {
     "name": "stdout",
     "output_type": "stream",
     "text": [
      "p5\t0.68017578125\t0.44189453125\t0.0458984375\t0.0498046875\n",
      "w58\t0.67431640625\t0.484375\t0.01025390625\t0.009765625\n",
      "w59\t0.68017578125\t0.49365234375\t0.04345703125\t0.0380859375\n",
      "pg\t0.6396484375\t0.4921875\t0.009765625\t0.0087890625\n"
     ]
    }
   ],
   "source": [
    "if __name__ == \"__main__\":\n",
    "    if \"88586\" in origin_dict[\"imgs\"]:\n",
    "        for k in origin_dict[\"imgs\"][\"88586\"][\"objects\"]:\n",
    "    #         res -= 1\n",
    "    #         if res == 0:\n",
    "            temp = []\n",
    "            temp.append(k[\"category\"])\n",
    "            temp.append(str(k[\"bbox\"][\"xmin\"]/2048))#x\n",
    "            temp.append(str(k[\"bbox\"][\"ymin\"]/2048))#y\n",
    "            temp.append(str((k[\"bbox\"][\"xmax\"]-k[\"bbox\"][\"xmin\"])/2048))#w\n",
    "            temp.append(str((k[\"bbox\"][\"ymax\"]-k[\"bbox\"][\"ymin\"])/2048))#h\n",
    "            print(\"\\t\".join(temp))"
   ]
  }
 ],
 "metadata": {
  "kernelspec": {
   "display_name": "Python 3",
   "language": "python",
   "name": "python3"
  },
  "language_info": {
   "codemirror_mode": {
    "name": "ipython",
    "version": 3
   },
   "file_extension": ".py",
   "mimetype": "text/x-python",
   "name": "python",
   "nbconvert_exporter": "python",
   "pygments_lexer": "ipython3",
   "version": "3.10.8 (tags/v3.10.8:aaaf517, Oct 11 2022, 16:50:30) [MSC v.1933 64 bit (AMD64)]"
  },
  "vscode": {
   "interpreter": {
    "hash": "2457cb1fc7fe65b67a8bfa8297ae36ac15699474b7b28a44eb2505adebb15336"
   }
  }
 },
 "nbformat": 4,
 "nbformat_minor": 5
}
