{
 "cells": [
  {
   "cell_type": "code",
   "execution_count": 1,
   "metadata": {},
   "outputs": [],
   "source": [
    "import os\n"
   ]
  },
  {
   "cell_type": "code",
   "execution_count": 2,
   "metadata": {},
   "outputs": [],
   "source": [
    "dir_path = \"../datasets/tt100k/labels/train\"\n",
    "ori_path1 = \"./annotation/train\"\n",
    "ori_path2 = \"./annotation/test\"\n",
    "orlist1 = os.listdir(ori_path1)\n",
    "orlist2 = os.listdir(ori_path2)"
   ]
  },
  {
   "cell_type": "code",
   "execution_count": 3,
   "metadata": {},
   "outputs": [],
   "source": [
    "for f1 in orlist1:\n",
    "    save_list = []\n",
    "    with open(os.path.join(ori_path1, f1), \"r\") as f:\n",
    "        for i in f.readlines():\n",
    "            # tmp = []\n",
    "            tmp = i.split(\"\\t\")\n",
    "            if tmp[0] == \"lz1\" or tmp[0] == \"lz2\":\n",
    "                tmp[0] = (\"1\")\n",
    "            else:\n",
    "                tmp[0] = (\"0\")\n",
    "            tmp[1] = str(float(tmp[1]) + float(tmp[3])/2)\n",
    "            tmp[2] = str(float(tmp[2]) + float(tmp[4])/2)\n",
    "            save_list.append(\" \".join(tmp))\n",
    "    \n",
    "    with open(os.path.join(dir_path, f1), \"w\") as f:\n",
    "        f.write(\"\".join(save_list))"
   ]
  },
  {
   "cell_type": "code",
   "execution_count": 4,
   "metadata": {},
   "outputs": [],
   "source": [
    "for f2 in orlist2:\n",
    "    save_list = []\n",
    "    with open(os.path.join(ori_path2, f2), \"r\") as f:\n",
    "        for i in f.readlines():\n",
    "            # tmp = []\n",
    "            tmp = i.split(\"\\t\")\n",
    "            if tmp[0] == \"lz1\" or tmp[0] == \"lz2\":\n",
    "                tmp[0] = (\"1\")\n",
    "            else:\n",
    "                tmp[0] = (\"0\")\n",
    "            tmp[1] = str(float(tmp[1]) + float(tmp[3])/2)\n",
    "            tmp[2] = str(float(tmp[2]) + float(tmp[4])/2)\n",
    "            save_list.append(\" \".join(tmp))\n",
    "    \n",
    "    with open(os.path.join(dir_path, f2), \"w\") as f:\n",
    "        f.write(\"\".join(save_list))"
   ]
  },
  {
   "cell_type": "code",
   "execution_count": null,
   "metadata": {},
   "outputs": [],
   "source": []
  }
 ],
 "metadata": {
  "kernelspec": {
   "display_name": "Python 3",
   "language": "python",
   "name": "python3"
  },
  "language_info": {
   "codemirror_mode": {
    "name": "ipython",
    "version": 3
   },
   "file_extension": ".py",
   "mimetype": "text/x-python",
   "name": "python",
   "nbconvert_exporter": "python",
   "pygments_lexer": "ipython3",
   "version": "3.10.8 (tags/v3.10.8:aaaf517, Oct 11 2022, 16:50:30) [MSC v.1933 64 bit (AMD64)]"
  },
  "orig_nbformat": 4,
  "vscode": {
   "interpreter": {
    "hash": "2457cb1fc7fe65b67a8bfa8297ae36ac15699474b7b28a44eb2505adebb15336"
   }
  }
 },
 "nbformat": 4,
 "nbformat_minor": 2
}
